{
 "cells": [
  {
   "cell_type": "code",
   "execution_count": 57,
   "metadata": {},
   "outputs": [],
   "source": [
    "import requests\n",
    "import json\n",
    "import os\n",
    "\n",
    "from sympy import public\n",
    "\n",
    "url = \"https://yfapi.net/v8/finance/chart/AAPL\"\n",
    "\n",
    "headers = { 'x-api-key': \"HbCxQcsNmp2Q5zyWeN3kk4ctTR4jSbZY6PPy08XP\" }\n",
    "\n",
    "response = requests.request(\"GET\", url, headers=headers)\n",
    "\n",
    "data = json.loads(response.text)\n",
    "\n",
    "save_path = '/Users/dirgh/Desktop/Quant/Dirgh-Shah-Quant-OA/frontend-stock-information/stocks/src'\n",
    "file_name1 = \"meta.json\"\n",
    "file_name2 = \"time.json\"\n",
    "file_name3 = \"quote.json\"\n",
    "file_name4 = \"ref_data.json\"\n",
    "\n",
    "completeName1 = os.path.join(save_path, file_name1)\n",
    "completeName2 = os.path.join(save_path, file_name2)\n",
    "completeName3 = os.path.join(save_path, file_name3)\n",
    "completeName4 = os.path.join(save_path, file_name4)"
   ]
  },
  {
   "cell_type": "code",
   "execution_count": 58,
   "metadata": {},
   "outputs": [],
   "source": [
    "ref_data = data[\"chart\"][\"result\"][0]"
   ]
  },
  {
   "cell_type": "code",
   "execution_count": 59,
   "metadata": {},
   "outputs": [],
   "source": [
    "meta = ref_data[\"meta\"]"
   ]
  },
  {
   "cell_type": "code",
   "execution_count": 60,
   "metadata": {},
   "outputs": [],
   "source": [
    "timestamp = ref_data[\"timestamp\"]"
   ]
  },
  {
   "cell_type": "code",
   "execution_count": 61,
   "metadata": {},
   "outputs": [],
   "source": [
    "quote = ref_data[\"indicators\"][\"quote\"][0]"
   ]
  },
  {
   "cell_type": "code",
   "execution_count": 62,
   "metadata": {},
   "outputs": [],
   "source": [
    "close = quote[\"close\"]\n",
    "ope = quote[\"open\"]\n",
    "low = quote[\"low\"]\n",
    "high = quote[\"high\"]\n",
    "volume = quote[\"volume\"]"
   ]
  },
  {
   "cell_type": "code",
   "execution_count": 65,
   "metadata": {},
   "outputs": [],
   "source": [
    "with open(completeName1, 'w') as a:\n",
    "    a.write(\"[\")\n",
    "    a.write(json.dumps(meta))\n",
    "    a.write(\"]\")\n",
    "\n",
    "with open(completeName2, 'w') as b:\n",
    "    b.write(\"[\")\n",
    "    b.write(json.dumps(timestamp))\n",
    "    b.write(\"]\")\n",
    "    \n",
    "with open(completeName3, 'w') as c:\n",
    "    c.write(\"[\")\n",
    "    c.write(json.dumps(quote))\n",
    "    c.write(\"]\")\n",
    "    \n",
    "with open(completeName4, 'w') as d:\n",
    "    d.write(\"[\")\n",
    "    d.write(json.dumps(ref_data))\n",
    "    d.write(\"]\")"
   ]
  },
  {
   "cell_type": "code",
   "execution_count": null,
   "metadata": {},
   "outputs": [],
   "source": []
  },
  {
   "cell_type": "code",
   "execution_count": 43,
   "metadata": {},
   "outputs": [
    {
     "data": {
      "text/plain": [
       "{'currency': 'USD',\n",
       " 'symbol': 'AAPL',\n",
       " 'exchangeName': 'NMS',\n",
       " 'instrumentType': 'EQUITY',\n",
       " 'firstTradeDate': 345479400,\n",
       " 'regularMarketTime': 1645650002,\n",
       " 'gmtoffset': -18000,\n",
       " 'timezone': 'EST',\n",
       " 'exchangeTimezoneName': 'America/New_York',\n",
       " 'regularMarketPrice': 160.07,\n",
       " 'chartPreviousClose': 164.32,\n",
       " 'previousClose': 164.32,\n",
       " 'scale': 3,\n",
       " 'priceHint': 2,\n",
       " 'currentTradingPeriod': {'pre': {'timezone': 'EST',\n",
       "   'start': 1645606800,\n",
       "   'end': 1645626600,\n",
       "   'gmtoffset': -18000},\n",
       "  'regular': {'timezone': 'EST',\n",
       "   'start': 1645626600,\n",
       "   'end': 1645650000,\n",
       "   'gmtoffset': -18000},\n",
       "  'post': {'timezone': 'EST',\n",
       "   'start': 1645650000,\n",
       "   'end': 1645664400,\n",
       "   'gmtoffset': -18000}},\n",
       " 'tradingPeriods': [[{'timezone': 'EST',\n",
       "    'start': 1645626600,\n",
       "    'end': 1645650000,\n",
       "    'gmtoffset': -18000}]],\n",
       " 'dataGranularity': '1m',\n",
       " 'range': '1d',\n",
       " 'validRanges': ['1d',\n",
       "  '5d',\n",
       "  '1mo',\n",
       "  '3mo',\n",
       "  '6mo',\n",
       "  '1y',\n",
       "  '2y',\n",
       "  '5y',\n",
       "  '10y',\n",
       "  'ytd',\n",
       "  'max']}"
      ]
     },
     "execution_count": 43,
     "metadata": {},
     "output_type": "execute_result"
    }
   ],
   "source": [
    "meta"
   ]
  },
  {
   "cell_type": "code",
   "execution_count": null,
   "metadata": {},
   "outputs": [],
   "source": []
  },
  {
   "cell_type": "code",
   "execution_count": null,
   "metadata": {},
   "outputs": [],
   "source": []
  },
  {
   "cell_type": "code",
   "execution_count": null,
   "metadata": {},
   "outputs": [],
   "source": []
  },
  {
   "cell_type": "code",
   "execution_count": null,
   "metadata": {},
   "outputs": [],
   "source": []
  },
  {
   "cell_type": "code",
   "execution_count": null,
   "metadata": {},
   "outputs": [],
   "source": []
  },
  {
   "cell_type": "code",
   "execution_count": null,
   "metadata": {},
   "outputs": [],
   "source": []
  }
 ],
 "metadata": {
  "kernelspec": {
   "display_name": "Python 3",
   "language": "python",
   "name": "python3"
  },
  "language_info": {
   "codemirror_mode": {
    "name": "ipython",
    "version": 3
   },
   "file_extension": ".py",
   "mimetype": "text/x-python",
   "name": "python",
   "nbconvert_exporter": "python",
   "pygments_lexer": "ipython3",
   "version": "3.8.5"
  }
 },
 "nbformat": 4,
 "nbformat_minor": 4
}
